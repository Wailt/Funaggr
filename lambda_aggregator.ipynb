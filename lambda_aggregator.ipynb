{
 "cells": [
  {
   "cell_type": "code",
   "execution_count": 1,
   "metadata": {
    "collapsed": false
   },
   "outputs": [],
   "source": [
    "from Funaggr import Funaggr"
   ]
  },
  {
   "cell_type": "code",
   "execution_count": 2,
   "metadata": {
    "collapsed": false
   },
   "outputs": [],
   "source": [
    "ag = Funaggr([lambda x: x[0],\n",
    "           lambda x: 'local' in x, \n",
    "           lambda x: len(x) > 10, \n",
    "           lambda x: len(x) < 9], \n",
    "          names=['x[0]', 'local', 'len > 10', 'len(x) < 9'])\n",
    "\n",
    "ag2 = Funaggr([lambda x: x[0],\n",
    "            lambda x: 'local' in x, \n",
    "            lambda x: len(x) > 10, \n",
    "            lambda x: len(x) < 9], \n",
    "          names=['x[0]', 'local', 'len > 10', 'len(x) < 9'])"
   ]
  },
  {
   "cell_type": "code",
   "execution_count": 3,
   "metadata": {
    "collapsed": false
   },
   "outputs": [],
   "source": [
    "ag.update('local')\n",
    "ag.update('asdjkadsdfsdfsf')\n",
    "ag.update('asdjkadsdfsdfsf local')\n",
    "ag.update('al')\n",
    "ag.update('ald')\n",
    "ag.update(['awailt', 'wailtmir'])"
   ]
  },
  {
   "cell_type": "code",
   "execution_count": 4,
   "metadata": {
    "collapsed": false
   },
   "outputs": [],
   "source": [
    "ag2.update('local2')\n",
    "ag2.update('asdjkadsdfsdfsf2')\n",
    "ag2.update('asdjkf local2')\n",
    "ag2.update('al2')\n",
    "ag2.update('ald2')\n",
    "ag2.update(['2awailt', 'wailtmir'])\n",
    "ag2.update(['[1,2,3]', 'wailtmir', 'wailtmir'])"
   ]
  },
  {
   "cell_type": "code",
   "execution_count": 5,
   "metadata": {
    "collapsed": false
   },
   "outputs": [],
   "source": [
    "ag.merge(ag2)"
   ]
  },
  {
   "cell_type": "code",
   "execution_count": 6,
   "metadata": {
    "collapsed": false
   },
   "outputs": [
    {
     "data": {
      "text/plain": [
       "{'2': {'False': {'False': {'True': ['2awailt']}}},\n",
       " '[': {'False': {'False': {'True': ['[1,2,3]']}}},\n",
       " 'a': {'False': {'False': {'True': ['al', 'ald', 'awailt', 'al2', 'ald2']},\n",
       "   'True': {'False': ['asdjkadsdfsdfsf', 'asdjkadsdfsdfsf2']}},\n",
       "  'True': {'True': {'False': ['asdjkadsdfsdfsf local', 'asdjkf local2']}}},\n",
       " 'l': {'True': {'False': {'True': ['local', 'local2']}}},\n",
       " 'w': {'False': {'False': {'True': ['wailtmir',\n",
       "     'wailtmir',\n",
       "     'wailtmir',\n",
       "     'wailtmir']}}}}"
      ]
     },
     "execution_count": 6,
     "metadata": {},
     "output_type": "execute_result"
    }
   ],
   "source": [
    "ag.data"
   ]
  },
  {
   "cell_type": "code",
   "execution_count": 7,
   "metadata": {
    "collapsed": false
   },
   "outputs": [
    {
     "data": {
      "text/plain": [
       "{'2': {'False': {'False': {'True': [True]}}},\n",
       " '[': {'False': {'False': {'True': [False]}}},\n",
       " 'a': {'False': {'False': {'True': [True, True, True, True, True]},\n",
       "   'True': {'False': [True, True]}},\n",
       "  'True': {'True': {'False': [True, True]}}},\n",
       " 'l': {'True': {'False': {'True': [True, True]}}},\n",
       " 'w': {'False': {'False': {'True': [True, True, True, True]}}}}"
      ]
     },
     "execution_count": 7,
     "metadata": {},
     "output_type": "execute_result"
    }
   ],
   "source": [
    "ag.fapp(lambda x: map(lambda y: 'a' in y, x))"
   ]
  },
  {
   "cell_type": "code",
   "execution_count": 8,
   "metadata": {
    "collapsed": false
   },
   "outputs": [
    {
     "data": {
      "text/plain": [
       "{'2': {'False': {'False': {'True': ['2awailt']}}},\n",
       " '[': {'False': {'False': {'True': ['[1,2,3]']}}},\n",
       " 'a': {'False': {'False': {'True': ['al', 'ald', 'awailt', 'al2', 'ald2']},\n",
       "   'True': {'False': ['asdjkadsdfsdfsf', 'asdjkadsdfsdfsf2']}},\n",
       "  'True': {'True': {'False': ['asdjkadsdfsdfsf local', 'asdjkf local2']}}},\n",
       " 'l': {'True': {'False': {'True': ['local', 'local2']}}},\n",
       " 'w': {'False': {'False': {'True': ['wailtmir',\n",
       "     'wailtmir',\n",
       "     'wailtmir',\n",
       "     'wailtmir']}}}}"
      ]
     },
     "execution_count": 8,
     "metadata": {},
     "output_type": "execute_result"
    }
   ],
   "source": [
    "ag.data"
   ]
  },
  {
   "cell_type": "code",
   "execution_count": 9,
   "metadata": {
    "collapsed": false
   },
   "outputs": [
    {
     "data": {
      "text/plain": [
       "{'2': {'False': {'False': {'True': [True]}}},\n",
       " '[': {'False': {'False': {'True': [False]}}},\n",
       " 'a': {'False': {'False': {'True': [True, False, False, False, False]},\n",
       "   'True': {'False': [False, False]}},\n",
       "  'True': {'True': {'False': [False, False]}}},\n",
       " 'l': {'True': {'False': {'True': [False, False]}}},\n",
       " 'w': {'False': {'False': {'True': [True]}}}}"
      ]
     },
     "execution_count": 9,
     "metadata": {},
     "output_type": "execute_result"
    }
   ],
   "source": [
    "ag.fapp([set, lambda x: list(map(lambda y: 'wailt' in y, x))])"
   ]
  },
  {
   "cell_type": "code",
   "execution_count": 10,
   "metadata": {
    "collapsed": false
   },
   "outputs": [],
   "source": [
    "ag.reaggr([lambda x: len(x)])"
   ]
  },
  {
   "cell_type": "code",
   "execution_count": 11,
   "metadata": {
    "collapsed": false
   },
   "outputs": [
    {
     "name": "stdout",
     "output_type": "stream",
     "text": [
      "{'13': ['asdjkf local2'],\n",
      " '15': ['asdjkadsdfsdfsf'],\n",
      " '16': ['asdjkadsdfsdfsf2'],\n",
      " '2': ['al'],\n",
      " '21': ['asdjkadsdfsdfsf local'],\n",
      " '3': ['ald', 'al2'],\n",
      " '4': ['ald2'],\n",
      " '5': ['local'],\n",
      " '6': ['awailt', 'local2'],\n",
      " '7': ['[1,2,3]', '2awailt'],\n",
      " '8': ['wailtmir', 'wailtmir', 'wailtmir', 'wailtmir']}\n",
      "{'13': ['asdjkf local2'], '15': ['asdjkadsdfsdfsf'], '21': ['asdjkadsdfsdfsf local'], '16': ['asdjkadsdfsdfsf2'], '3': ['ald', 'al2'], '2': ['al'], '5': ['local'], '4': ['ald2'], '7': ['[1,2,3]', '2awailt'], '6': ['awailt', 'local2'], '8': ['wailtmir', 'wailtmir', 'wailtmir', 'wailtmir']}\n"
     ]
    }
   ],
   "source": [
    "print ag"
   ]
  },
  {
   "cell_type": "code",
   "execution_count": 12,
   "metadata": {
    "collapsed": false
   },
   "outputs": [
    {
     "data": {
      "text/plain": [
       "{'13': Counter({'asdjkf local2': 1}),\n",
       " '15': Counter({'asdjkadsdfsdfsf': 1}),\n",
       " '16': Counter({'asdjkadsdfsdfsf2': 1}),\n",
       " '2': Counter({'al': 1}),\n",
       " '21': Counter({'asdjkadsdfsdfsf local': 1}),\n",
       " '3': Counter({'al2': 1, 'ald': 1}),\n",
       " '4': Counter({'ald2': 1}),\n",
       " '5': Counter({'local': 1}),\n",
       " '6': Counter({'awailt': 1, 'local2': 1}),\n",
       " '7': Counter({'2awailt': 1, '[1,2,3]': 1}),\n",
       " '8': Counter({'wailtmir': 4})}"
      ]
     },
     "execution_count": 12,
     "metadata": {},
     "output_type": "execute_result"
    }
   ],
   "source": [
    "from collections import Counter\n",
    "ag.fapp(Counter)"
   ]
  },
  {
   "cell_type": "code",
   "execution_count": null,
   "metadata": {
    "collapsed": true
   },
   "outputs": [],
   "source": []
  },
  {
   "cell_type": "code",
   "execution_count": 15,
   "metadata": {
    "collapsed": false
   },
   "outputs": [
    {
     "ename": "Exception",
     "evalue": "Empty function list",
     "output_type": "error",
     "traceback": [
      "\u001b[0;31m---------------------------------------------------------------------------\u001b[0m",
      "\u001b[0;31mException\u001b[0m                                 Traceback (most recent call last)",
      "\u001b[0;32m<ipython-input-15-34803761b9b6>\u001b[0m in \u001b[0;36m<module>\u001b[0;34m()\u001b[0m\n\u001b[0;32m----> 1\u001b[0;31m \u001b[0mFunaggr\u001b[0m\u001b[1;33m(\u001b[0m\u001b[1;33m)\u001b[0m\u001b[1;33m\u001b[0m\u001b[0m\n\u001b[0m",
      "\u001b[0;32mC:\\Users\\Wailt\\Desktop\\работа\\own_libraries\\Funaggr\\Funaggr.py\u001b[0m in \u001b[0;36m__init__\u001b[0;34m(self, features, names)\u001b[0m\n\u001b[1;32m      6\u001b[0m     \u001b[1;32mdef\u001b[0m \u001b[0m__init__\u001b[0m\u001b[1;33m(\u001b[0m\u001b[0mself\u001b[0m\u001b[1;33m,\u001b[0m \u001b[0mfeatures\u001b[0m\u001b[1;33m=\u001b[0m\u001b[1;33m[\u001b[0m\u001b[1;33m]\u001b[0m\u001b[1;33m,\u001b[0m \u001b[0mnames\u001b[0m\u001b[1;33m=\u001b[0m\u001b[1;33m[\u001b[0m\u001b[1;33m]\u001b[0m\u001b[1;33m)\u001b[0m\u001b[1;33m:\u001b[0m\u001b[1;33m\u001b[0m\u001b[0m\n\u001b[1;32m      7\u001b[0m         \u001b[1;32mif\u001b[0m \u001b[1;32mnot\u001b[0m \u001b[0mfeatures\u001b[0m\u001b[1;33m:\u001b[0m\u001b[1;33m\u001b[0m\u001b[0m\n\u001b[0;32m----> 8\u001b[0;31m             \u001b[1;32mraise\u001b[0m \u001b[0mException\u001b[0m\u001b[1;33m(\u001b[0m\u001b[1;34m\"Empty function list\"\u001b[0m\u001b[1;33m)\u001b[0m\u001b[1;33m\u001b[0m\u001b[0m\n\u001b[0m\u001b[1;32m      9\u001b[0m         \u001b[0mself\u001b[0m\u001b[1;33m.\u001b[0m\u001b[0mfeatures\u001b[0m \u001b[1;33m=\u001b[0m \u001b[0mfeatures\u001b[0m\u001b[1;33m\u001b[0m\u001b[0m\n\u001b[1;32m     10\u001b[0m         \u001b[0mself\u001b[0m\u001b[1;33m.\u001b[0m\u001b[0mnames\u001b[0m \u001b[1;33m=\u001b[0m \u001b[0mnames\u001b[0m\u001b[1;33m\u001b[0m\u001b[0m\n",
      "\u001b[0;31mException\u001b[0m: Empty function list"
     ]
    }
   ],
   "source": [
    "Funaggr()"
   ]
  },
  {
   "cell_type": "code",
   "execution_count": null,
   "metadata": {
    "collapsed": true
   },
   "outputs": [],
   "source": []
  }
 ],
 "metadata": {
  "kernelspec": {
   "display_name": "Python 2",
   "language": "python",
   "name": "python2"
  },
  "language_info": {
   "codemirror_mode": {
    "name": "ipython",
    "version": 2
   },
   "file_extension": ".py",
   "mimetype": "text/x-python",
   "name": "python",
   "nbconvert_exporter": "python",
   "pygments_lexer": "ipython2",
   "version": "2.7.13"
  }
 },
 "nbformat": 4,
 "nbformat_minor": 0
}
